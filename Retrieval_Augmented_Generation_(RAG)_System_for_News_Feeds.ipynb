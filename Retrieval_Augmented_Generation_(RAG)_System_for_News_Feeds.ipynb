{
  "nbformat": 4,
  "nbformat_minor": 0,
  "metadata": {
    "colab": {
      "provenance": [],
      "authorship_tag": "ABX9TyOCcCEu9rRL4l6byT1OYVuE",
      "include_colab_link": true
    },
    "kernelspec": {
      "name": "python3",
      "display_name": "Python 3"
    },
    "language_info": {
      "name": "python"
    }
  },
  "cells": [
    {
      "cell_type": "markdown",
      "metadata": {
        "id": "view-in-github",
        "colab_type": "text"
      },
      "source": [
        "<a href=\"https://colab.research.google.com/github/frontloss/RAG-System-for-News-Feeds/blob/main/Retrieval_Augmented_Generation_(RAG)_System_for_News_Feeds.ipynb\" target=\"_parent\"><img src=\"https://colab.research.google.com/assets/colab-badge.svg\" alt=\"Open In Colab\"/></a>"
      ]
    },
    {
      "cell_type": "code",
      "source": [
        "!git config --global user.email \"abhinavnitr123@gmail.com\"\n",
        "!git config --global user.name \"Abhinav.K\"\n",
        "!echo \"# RAG-system-for-News-Feeds\" >> README.md\n",
        "!git init\n",
        "!git add README.md\n",
        "!git commit -m \"RAG LLM code\"\n",
        "!git branch -M main\n",
        "!git remote add origin https://github.com/frontloss/RAG-system-for-News-Feeds.git\n",
        "!git push -u origin main"
      ],
      "metadata": {
        "colab": {
          "base_uri": "https://localhost:8080/"
        },
        "id": "ocNA6DiaxNu7",
        "outputId": "57c6006d-6bcb-4a1f-85a9-8706e97ddb6f"
      },
      "execution_count": 3,
      "outputs": [
        {
          "output_type": "stream",
          "name": "stdout",
          "text": [
            "Reinitialized existing Git repository in /content/.git/\n",
            "[main 6e7d407] RAG LLM code\n",
            " 1 file changed, 1 insertion(+)\n",
            "error: remote origin already exists.\n",
            "fatal: could not read Username for 'https://github.com': No such device or address\n"
          ]
        }
      ]
    },
    {
      "cell_type": "code",
      "source": [
        "!pip install feedparser"
      ],
      "metadata": {
        "colab": {
          "base_uri": "https://localhost:8080/"
        },
        "id": "0uYIC27mfjZp",
        "outputId": "e922490e-f42e-4974-c21d-cb37b14fdaa4"
      },
      "execution_count": null,
      "outputs": [
        {
          "output_type": "stream",
          "name": "stdout",
          "text": [
            "Requirement already satisfied: feedparser in /usr/local/lib/python3.10/dist-packages (6.0.11)\n",
            "Requirement already satisfied: sgmllib3k in /usr/local/lib/python3.10/dist-packages (from feedparser) (1.0.0)\n"
          ]
        }
      ]
    },
    {
      "cell_type": "code",
      "source": [
        "!pip install replicate"
      ],
      "metadata": {
        "colab": {
          "base_uri": "https://localhost:8080/"
        },
        "id": "ecuIGAerQO1f",
        "outputId": "35307d9d-e680-4f39-dae1-d85f608e4015"
      },
      "execution_count": null,
      "outputs": [
        {
          "output_type": "stream",
          "name": "stdout",
          "text": [
            "Requirement already satisfied: replicate in /usr/local/lib/python3.10/dist-packages (0.22.0)\n",
            "Requirement already satisfied: httpx<1,>=0.21.0 in /usr/local/lib/python3.10/dist-packages (from replicate) (0.26.0)\n",
            "Requirement already satisfied: packaging in /usr/local/lib/python3.10/dist-packages (from replicate) (23.2)\n",
            "Requirement already satisfied: pydantic>1 in /usr/local/lib/python3.10/dist-packages (from replicate) (1.10.13)\n",
            "Requirement already satisfied: typing-extensions>=4.5.0 in /usr/local/lib/python3.10/dist-packages (from replicate) (4.5.0)\n",
            "Requirement already satisfied: anyio in /usr/local/lib/python3.10/dist-packages (from httpx<1,>=0.21.0->replicate) (3.7.1)\n",
            "Requirement already satisfied: certifi in /usr/local/lib/python3.10/dist-packages (from httpx<1,>=0.21.0->replicate) (2023.11.17)\n",
            "Requirement already satisfied: httpcore==1.* in /usr/local/lib/python3.10/dist-packages (from httpx<1,>=0.21.0->replicate) (1.0.2)\n",
            "Requirement already satisfied: idna in /usr/local/lib/python3.10/dist-packages (from httpx<1,>=0.21.0->replicate) (3.6)\n",
            "Requirement already satisfied: sniffio in /usr/local/lib/python3.10/dist-packages (from httpx<1,>=0.21.0->replicate) (1.3.0)\n",
            "Requirement already satisfied: h11<0.15,>=0.13 in /usr/local/lib/python3.10/dist-packages (from httpcore==1.*->httpx<1,>=0.21.0->replicate) (0.14.0)\n",
            "Requirement already satisfied: exceptiongroup in /usr/local/lib/python3.10/dist-packages (from anyio->httpx<1,>=0.21.0->replicate) (1.2.0)\n"
          ]
        }
      ]
    },
    {
      "cell_type": "code",
      "source": [
        "import feedparser\n",
        "import re\n",
        "import os\n",
        "os.environ[\"REPLICATE_API_TOKEN\"] = \"r8_6e1GCpZqGq27sSMV6umEFjRkHk3QWaG0DsZa5\"\n",
        "import replicate"
      ],
      "metadata": {
        "id": "Qe6oY4I4ncma"
      },
      "execution_count": null,
      "outputs": []
    },
    {
      "cell_type": "code",
      "source": [
        "# RSS feed URL for the New York Times Science section\n",
        "main_url = \"https://rss.nytimes.com/services/xml/rss/nyt\"\n",
        "topics = ['/Business.xml','/Technology.xml','/Sports.xml','/Science.xml','/Health.xml','/Arts.xml','/Style.xml']\n",
        "# Parse the RSS feed\n",
        "for topic in topics:\n",
        "    feed = feedparser.parse(main_url + topic)\n",
        "    # Extract and print the combined title and description of each entry in the feed\n",
        "    for entry in feed.entries:\n",
        "        content = f\"{entry.title}\\n{entry.description}\\n\\n\"\n",
        "        with open(topic[1:-4]+'.txt','a') as f:\n",
        "            f.write(content)\n"
      ],
      "metadata": {
        "id": "W2YxOGPnimhM"
      },
      "execution_count": null,
      "outputs": []
    },
    {
      "cell_type": "code",
      "source": [
        "questions = ['What are the convincing arguments to ease trade restrictions on Marijuana?',\n",
        "             'What kind of formal suits does Elon Musk wear for company meetings?']"
      ],
      "metadata": {
        "id": "qDSYoJWceQCt"
      },
      "execution_count": null,
      "outputs": []
    },
    {
      "cell_type": "code",
      "execution_count": null,
      "metadata": {
        "id": "a5TTsYxsLxg8"
      },
      "outputs": [],
      "source": [
        "classify_prompt = '''Classify the above question into one of the following categories:\n",
        "\n",
        "1. Business\n",
        "2. Technology\n",
        "3. Sports\n",
        "4. Science\n",
        "5. Health\n",
        "6. Arts\n",
        "7. Style'''\n",
        "\n",
        "def generate_text(prompt,system_prompt):\n",
        "    api = replicate.Client(api_token=os.environ[\"REPLICATE_API_TOKEN\"])\n",
        "    result = ''\n",
        "    for event in api.stream(\n",
        "        \"meta/llama-2-70b-chat\",\n",
        "        input={\n",
        "            \"debug\": False,\n",
        "            \"top_k\": 50,\n",
        "            \"top_p\": 1,\n",
        "            \"prompt\": prompt,\n",
        "            \"temperature\": 0.02,\n",
        "            \"system_prompt\": system_prompt,\n",
        "            \"max_new_tokens\": 500,\n",
        "            \"min_new_tokens\": -1\n",
        "        },\n",
        "    ):\n",
        "        result+=str(event)+' '\n",
        "    return result"
      ]
    },
    {
      "cell_type": "code",
      "source": [
        "system_prompt = \"Don't give me any explanation. I just need the topic category as the answer.\"\n",
        "responses = []\n",
        "for ques in questions:\n",
        "    prompt = ques + '\\n' + classify_prompt\n",
        "    response = generate_text(prompt, system_prompt)\n",
        "    responses.append(response)"
      ],
      "metadata": {
        "id": "r9WT4yeyEytp"
      },
      "execution_count": null,
      "outputs": []
    },
    {
      "cell_type": "code",
      "source": [
        "categories = []\n",
        "for response in responses:\n",
        "    pattern = r'\\b\\d+[\\. \\:]\\s*[A-Za-z]{1,}\\b'\n",
        "    match_status = re.search(pattern, response)\n",
        "    if match_status:\n",
        "        result = match_status.group()\n",
        "        result = re.findall('[A-Za-z]{1,}',result)[0]\n",
        "        categories.append(result)"
      ],
      "metadata": {
        "id": "_bVhGM1fJX3P"
      },
      "execution_count": null,
      "outputs": []
    },
    {
      "cell_type": "code",
      "source": [
        "responses"
      ],
      "metadata": {
        "colab": {
          "base_uri": "https://localhost:8080/"
        },
        "id": "1TKNyPo7nP5G",
        "outputId": "18685787-e1b7-4b9d-a82c-dc241750066d"
      },
      "execution_count": null,
      "outputs": [
        {
          "output_type": "execute_result",
          "data": {
            "text/plain": [
              "[' The  above question can  be classified  into category  5: Health .  ',\n",
              " '\\n The  above question can  be classified  into category  7: Style .  ']"
            ]
          },
          "metadata": {},
          "execution_count": 9
        }
      ]
    },
    {
      "cell_type": "code",
      "source": [
        "categories"
      ],
      "metadata": {
        "colab": {
          "base_uri": "https://localhost:8080/"
        },
        "id": "9YWM189Wbn5W",
        "outputId": "3f8ec246-f5b4-4f60-ebbc-035ad193d811"
      },
      "execution_count": null,
      "outputs": [
        {
          "output_type": "execute_result",
          "data": {
            "text/plain": [
              "['Health', 'Style']"
            ]
          },
          "metadata": {},
          "execution_count": 10
        }
      ]
    },
    {
      "cell_type": "code",
      "source": [
        "def get_master_prompt(category_text, question):\n",
        "    master_prompt = \"text:\" + \"\\n\" + category_text + \"\\n\" + \"question:\" + \"\\n\" + question + \"Use the above given portion of the text to see if any part is relevant to answer the above question. \\n Return the relevant text verbatim.\"\n",
        "    return master_prompt\n",
        "\n",
        "system_prompt = \"If there are no relevant text. reply no relevant news article found .Also, you are a helpful, respectful and honest assistant. Always answer as helpfully as possible, while being safe. Your answers should not include any harmful, unethical, racist, sexist, toxic, dangerous, or illegal content. Please ensure that your responses are socially unbiased and positive in nature.\\n\\nIf a question does not make any sense, or is not factually coherent, explain why instead of answering something not correct. If you don't know the answer to a question, please don't share false information.\"\n",
        "answers = []\n",
        "for category,question in zip(categories,questions):\n",
        "    category_text = ''\n",
        "    with open(category+'.txt') as f:\n",
        "        category_text += f.read()\n",
        "    master_prompt = get_master_prompt(category_text, question)\n",
        "    answer = generate_text(master_prompt, system_prompt)\n",
        "    answers.append(answer)"
      ],
      "metadata": {
        "id": "laIoPI7VODz6"
      },
      "execution_count": null,
      "outputs": []
    },
    {
      "cell_type": "code",
      "source": [
        "answers"
      ],
      "metadata": {
        "colab": {
          "base_uri": "https://localhost:8080/"
        },
        "id": "ik4FKbaDcl30",
        "outputId": "f3b8ea3c-147c-44fe-841d-4e2e378e153e"
      },
      "execution_count": null,
      "outputs": [
        {
          "output_type": "execute_result",
          "data": {
            "text/plain": [
              "['\\n\\n According  to the  text,  federal scientists have  recommended eas ing restrictions  on marijuana . The  text states , \" Federal Scient ists Re commend  Easing  Restrictions on  Mariju ana\"  and \" In newly disclosed  documents,  federal research ers find  that cannabis  may have  medical uses  and is  less likely to cause  harm than  drugs  like hero in.\" This suggests  that there  are convin cing arguments  to ease trade restrictions  on mar ijuana  based on  its potential medical benefits  and lower  risk of  harm compared  to other drugs .   ',\n",
              " \"\\n\\n\\n No  relevant text  was found  in the  provided portion  of the text to  answer the  question about  Elon  Musk 's formal su its for  company meet ings.  The text only discuss es fashion , watch es,  and lux ury brands,  but does  not mention  anything about  Elon Musk  or his  attire .\\n\\nThere fore,  I cannot  provide a  relevant answer to this  question based  on the  given text .   \"]"
            ]
          },
          "metadata": {},
          "execution_count": 13
        }
      ]
    },
    {
      "cell_type": "code",
      "source": [
        "i = 0\n",
        "for answer in answers:\n",
        "    answer = answer.replace('\\n','')\n",
        "    answers[i] = answer\n",
        "    i+=1"
      ],
      "metadata": {
        "id": "InInYOkGWmjS"
      },
      "execution_count": null,
      "outputs": []
    },
    {
      "cell_type": "code",
      "source": [
        "i = 1\n",
        "for question, answer in zip(questions, answers):\n",
        "    print('Question {0}:'.format(i))\n",
        "    print(question)\n",
        "    print('\\n')\n",
        "    print('Answer {0}:'.format(i))\n",
        "    print(answer)\n",
        "    i+=1\n",
        "    print('\\n')"
      ],
      "metadata": {
        "colab": {
          "base_uri": "https://localhost:8080/"
        },
        "id": "jHwn2IwagJaH",
        "outputId": "39f96848-6d0e-4129-b624-5c4ab93c6137"
      },
      "execution_count": null,
      "outputs": [
        {
          "output_type": "stream",
          "name": "stdout",
          "text": [
            "Question 1:\n",
            "What are the convincing arguments to ease trade restrictions on Marijuana?\n",
            "\n",
            "\n",
            "Answer 1:\n",
            " According  to the  text,  federal scientists have  recommended eas ing restrictions  on marijuana . The  text states , \" Federal Scient ists Re commend  Easing  Restrictions on  Mariju ana\"  and \" In newly disclosed  documents,  federal research ers find  that cannabis  may have  medical uses  and is  less likely to cause  harm than  drugs  like hero in.\" This suggests  that there  are convin cing arguments  to ease trade restrictions  on mar ijuana  based on  its potential medical benefits  and lower  risk of  harm compared  to other drugs .   \n",
            "\n",
            "\n",
            "Question 2:\n",
            "What kind of formal suits does Elon Musk wear for company meetings?\n",
            "\n",
            "\n",
            "Answer 2:\n",
            " No  relevant text  was found  in the  provided portion  of the text to  answer the  question about  Elon  Musk 's formal su its for  company meet ings.  The text only discuss es fashion , watch es,  and lux ury brands,  but does  not mention  anything about  Elon Musk  or his  attire .There fore,  I cannot  provide a  relevant answer to this  question based  on the  given text .   \n",
            "\n",
            "\n"
          ]
        }
      ]
    }
  ]
}